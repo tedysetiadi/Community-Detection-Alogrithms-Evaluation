{
  "nbformat": 4,
  "nbformat_minor": 0,
  "metadata": {
    "colab": {
      "provenance": [],
      "collapsed_sections": [],
      "include_colab_link": true
    },
    "kernelspec": {
      "display_name": "Python 3",
      "language": "python",
      "name": "python3"
    },
    "language_info": {
      "codemirror_mode": {
        "name": "ipython",
        "version": 3
      },
      "file_extension": ".py",
      "mimetype": "text/x-python",
      "name": "python",
      "nbconvert_exporter": "python",
      "pygments_lexer": "ipython3",
      "version": "3.7.3"
    }
  },
  "cells": [
    {
      "cell_type": "markdown",
      "metadata": {
        "id": "view-in-github",
        "colab_type": "text"
      },
      "source": [
        "<a href=\"https://colab.research.google.com/github/tedysetiadi/Community-Detection-Alogrithms-Evaluation/blob/master/Eval_library_graph_student.ipynb\" target=\"_parent\"><img src=\"https://colab.research.google.com/assets/colab-badge.svg\" alt=\"Open In Colab\"/></a>"
      ]
    },
    {
      "cell_type": "markdown",
      "metadata": {
        "id": "9qn4S8XHcsm8"
      },
      "source": [
        "#Applied SNA and Community Detection for Library"
      ]
    },
    {
      "cell_type": "code",
      "metadata": {
        "colab": {
          "base_uri": "https://localhost:8080/"
        },
        "id": "mGf1h4ZY1onv",
        "outputId": "f213b8a7-2920-48ca-9694-114b86f127aa"
      },
      "source": [
        "!pip install igraph"
      ],
      "execution_count": 6,
      "outputs": [
        {
          "output_type": "stream",
          "name": "stdout",
          "text": [
            "Looking in indexes: https://pypi.org/simple, https://us-python.pkg.dev/colab-wheels/public/simple/\n",
            "Collecting igraph\n",
            "  Downloading igraph-0.10.1-cp37-cp37m-manylinux_2_17_x86_64.manylinux2014_x86_64.whl (3.2 MB)\n",
            "\u001b[K     |████████████████████████████████| 3.2 MB 27.2 MB/s \n",
            "\u001b[?25hCollecting texttable>=1.6.2\n",
            "  Downloading texttable-1.6.4-py2.py3-none-any.whl (10 kB)\n",
            "Installing collected packages: texttable, igraph\n",
            "Successfully installed igraph-0.10.1 texttable-1.6.4\n"
          ]
        }
      ]
    },
    {
      "cell_type": "code",
      "metadata": {
        "colab": {
          "base_uri": "https://localhost:8080/"
        },
        "id": "8bpyK3Cv1yxE",
        "outputId": "e51cab5b-cf72-4919-a00e-d8a589944cff"
      },
      "source": [
        "!pip install leidenalg"
      ],
      "execution_count": 7,
      "outputs": [
        {
          "output_type": "stream",
          "name": "stdout",
          "text": [
            "Looking in indexes: https://pypi.org/simple, https://us-python.pkg.dev/colab-wheels/public/simple/\n",
            "Collecting leidenalg\n",
            "  Downloading leidenalg-0.8.10-cp37-cp37m-manylinux_2_17_x86_64.manylinux2014_x86_64.whl (1.3 MB)\n",
            "\u001b[K     |████████████████████████████████| 1.3 MB 29.1 MB/s \n",
            "\u001b[?25hCollecting igraph<0.10,>=0.9.0\n",
            "  Downloading igraph-0.9.11-cp37-cp37m-manylinux_2_17_x86_64.manylinux2014_x86_64.whl (3.1 MB)\n",
            "\u001b[K     |████████████████████████████████| 3.1 MB 67.4 MB/s \n",
            "\u001b[?25hRequirement already satisfied: texttable>=1.6.2 in /usr/local/lib/python3.7/dist-packages (from igraph<0.10,>=0.9.0->leidenalg) (1.6.4)\n",
            "Installing collected packages: igraph, leidenalg\n",
            "  Attempting uninstall: igraph\n",
            "    Found existing installation: igraph 0.10.1\n",
            "    Uninstalling igraph-0.10.1:\n",
            "      Successfully uninstalled igraph-0.10.1\n",
            "Successfully installed igraph-0.9.11 leidenalg-0.8.10\n"
          ]
        }
      ]
    },
    {
      "cell_type": "code",
      "metadata": {
        "id": "VyCoogUtBnq3"
      },
      "source": [
        "#utility\n",
        "\n",
        "import pandas as pd\n",
        "import igraph as ig\n",
        "import networkx as nx\n",
        "import networkx.algorithms.community as nx_comm\n",
        "from igraph import *\n",
        "import matplotlib as plt\n",
        "import leidenalg as la\n",
        "import community\n",
        "from community import community_louvain\n",
        "import pandas as pd\n",
        "import networkx as nx\n",
        "from networkx.algorithms import bipartite\n",
        "from operator import itemgetter\n",
        "import numpy as np\n",
        "# entropy: evaluation metric for attributed graph  \n",
        "def entropy(labels):\n",
        "    prob_dict = {x:labels.count(x)/len(labels) for x in labels}\n",
        "    probs = np.array(list(prob_dict.values()))\n",
        "    return - probs.dot(np.log2(probs))\n",
        "\n",
        "#convert list of frozen=[frozenset({32, 33, 8, 14}), frozenset({1, 2, 3})\n",
        "# to com ={0: [32, 33, 8, 1 31], 1: [1, 2, 3, 7, 9, 1]}\n",
        "def frozen2com(froz):\n",
        "  com=dict()\n",
        "  for i in range(len(froz)):\n",
        "    com[i]=list(froz[i])\n",
        "  return(com)\n",
        "\n",
        "def com2lsetcom(com):\n",
        "#convert com={0:[0,1,2],1:[3,4]} menjadi lsetcom=({0,1,2},{3,4})\n",
        "    lsetcom=[]\n",
        "    for key,val in com.items() :\n",
        "      x=set(val)\n",
        "      lsetcom.append(x)\n",
        "    return lsetcom\n",
        "#convert mem={0,0,0,1,1,3} topart={0:0,1:0,2:0,3:1,4:1,5:3}\n",
        "def mem2part(mem):\n",
        "  part=dict()\n",
        "  for i in range(len(mem)):\n",
        "    part[i]=mem[i]\n",
        "  return(part)\n",
        "\n",
        "def part2com(part):\n",
        "#convert part={0:0,1:0,2:0,3:1,4:1,5:3} to com={0:[0,1,2],1:[3,4],3:[5]) \n",
        "    com=dict()\n",
        "    for val in range(0,len(set(part.values()))):\n",
        "        #list.append(get_node(part,i))\n",
        "        el=[]\n",
        "        for (i,j) in part.items():\n",
        "            if j==val : \n",
        "                el.append(i)\n",
        "        com[val]=el\n",
        "    return com\n",
        "\n",
        "def com2part(com):\n",
        "#convert com={0:[0,1,2],1:[3,4],3:[5]) to part={0:0,1:1,2:0,3:1,4:1,5:3}\n",
        "    part=dict()\n",
        "    for k,v in com.items():\n",
        "        for el in v :\n",
        "            part[el]=k \n",
        "    return(part)\n",
        "\n",
        "def part2mem(part):\n",
        "  mem=[]\n",
        "  for k,v in part.items():\n",
        "    mem.append(v)\n",
        "  return(mem)\n",
        "\n",
        "def mem2com(mem):\n",
        "  r=mem2part(mem)\n",
        "  res=part2com(r)\n",
        "  return(res)\n",
        "\n",
        "def com2mem(com):\n",
        "  x=com2part(com)\n",
        "  res=part2mem(x)\n",
        "  return(res)\n",
        "\n",
        "# convert list_list=[[0,1],[2,3,4] to com={0: [0, 1], 1: [2, 3, 4]}\n",
        "def list_list2com(lab):\n",
        "  com={}\n",
        "  for i in range(len(lab)):\n",
        "    com[i]=lab[i]\n",
        "  return(com)\n",
        "\n",
        "def obj_com2lab(obj_com): \n",
        "  lab=[]\n",
        "  for i in obj_com :\n",
        "    lab.append(list(i))\n",
        "  return(lab)\n",
        "\n",
        "# convert list_set =[{0, 1}, {2,3,4}] to list_list=[[0,1],[2,3,4]\n",
        "def list_set2list_list(l):\n",
        "  list_list=[]\n",
        "  for el in l:\n",
        "    #print(el)\n",
        "    list_list.append(list(el))\n",
        "  return (list_list)\n",
        "\n",
        "def plot_degree_dist(g):\n",
        "    degrees = [g.degree(n) for n in g.nodes()]\n",
        "    plt.hist(degrees)\n",
        "    plt.show()\n",
        "def max_degree(g):\n",
        "    max_degree=-1\n",
        "    for i in g.nodes :\n",
        "        if (g.degree[i]> max_degree):\n",
        "            max_degree=g.degree[i]\n",
        "    return max_degree\n",
        "def min_degree(g):\n",
        "    min_degree=9999\n",
        "    for i in g.nodes :\n",
        "        if (g.degree[i]< min_degree):\n",
        "            min_degree=g.degree[i]\n",
        "    return min_degree\n",
        "def avg_degree(g):\n",
        "    sum=0\n",
        "    for i in g.nodes :\n",
        "        sum=sum+g.degree[i]\n",
        "    return sum/len(g)\n",
        "\n",
        "def Most_top_students(g,n):\n",
        "    degree_dict=dict(g.degree(g.nodes()))\n",
        "    nx.set_node_attributes(g,degree_dict,'degree')\n",
        "    attr=nx.get_node_attributes(gstudents,\"attr\")\n",
        "    sorted_degree=sorted(degree_dict.items(),key=itemgetter(1),reverse=True)\n",
        "    print(\"Most top students : \")\n",
        "    for x,y in sorted_degree[:n]:\n",
        "        print(\"The students no :\",x,\",degree:\",y,\",departement :\",attr[x])\n",
        "  \n",
        "def Five_top_degree_NA(g):\n",
        "    degree_dict=dict(g.degree(g.nodes()))\n",
        "    nx.set_node_attributes(g,degree_dict,'degree')\n",
        "    sorted_degree=sorted(degree_dict.items(),key=itemgetter(1),reverse=True)\n",
        "    print(\" 5 top nodes by degree\")\n",
        "    for x,y in sorted_degree[:5]:\n",
        "        x1=get_key(mapping,x)\n",
        "        print(x1,y) \n",
        "def property_network_NA(g) :\n",
        "    print(\"number of edges :\",nx.number_of_edges(g))\n",
        "    print(\"number of nodes :\",nx.number_of_nodes(g))\n",
        "    print(\"density :{:.2f}\".format(nx.density(g)) )\n",
        "    print(\"diameter :\",nx.diameter(g) )\n",
        "    print(\"maximum degree :\",max_degree(g) )\n",
        "    print(\"minimum degree :\",min_degree(g) )\n",
        "    print(\"Average degree :{:.2f}\".format(avg_degree(g)))\n",
        "    print(\"Assortativity :{:.2f}\".format(nx.degree_assortativity_coefficient(g)))\n",
        "    r=sum(nx.triangles(g).values()) / 3\n",
        "    print(\"Number of triangles\",r)\n",
        "    #print(\"Maximum k-core:\",nx.core_number(g))\n",
        "    #print(\"Degree centrality :\",nx.degree_centrality(g))\n",
        "    print(Five_top_degree_NA(g))\n",
        "\n",
        "def property_network(g) :\n",
        "    print(\"number of edges :\",nx.number_of_edges(g))\n",
        "    print(\"number of nodes :\",nx.number_of_nodes(g))\n",
        "    print(\"density :{:.2f}\".format(nx.density(g)) )\n",
        "    print(\"diameter :\",nx.diameter(g) )\n",
        "    print(\"maximum degree :\",max_degree(g) )\n",
        "    print(\"minimum degree :\",min_degree(g) )\n",
        "    print(\"Average degree :{:.2f}\".format(avg_degree(g)))\n",
        "    print(\"Assortativity :{:.2f}\".format(nx.degree_assortativity_coefficient(g)))\n",
        "    r=sum(nx.triangles(g).values()) / 3\n",
        "    print(\"Number of triangles\",r)\n",
        "    #print(\"Maximum k-core:\",nx.core_number(g))\n",
        "    #print(\"Degree centrality :\",nx.degree_centrality(g))\n",
        "    print(Five_top_degree(g))\n",
        "\n",
        "def part2com(part):\n",
        "    com=dict()\n",
        "    for val in range(0,len(set(part.values()))):\n",
        "        #list.append(get_node(part,i))\n",
        "        el=[]\n",
        "        for (i,j) in part.items():\n",
        "            if j==val : \n",
        "                el.append(i)\n",
        "        com[val]=el\n",
        "    return com\n",
        "def min_length_com(x):\n",
        "    return min([len(n) for n in x.values()])\n",
        "def max_length_com(x):\n",
        "    return max([len(n) for n in x.values()])\n",
        "def avg_length_com(x):\n",
        "    return (sum([len(n) for n in x.values()])/len(x))\n",
        "def get_key(d,v): # the value is passed to the function\n",
        "    #(i,j) pair key:values\n",
        "    for (i,j) in d.items():\n",
        "        if j == v:\n",
        "            return i\n",
        "def Most_student_populer(g,n):\n",
        "  degree_dict=dict(g.degree(g.nodes()))\n",
        "  nx.set_node_attributes(g,degree_dict,'degree')\n",
        "  sorted_degree=sorted(degree_dict.items(),key=itemgetter(1),reverse=True)\n",
        "  print(n, \"  most student populer :\")\n",
        "  for x,y in sorted_degree[:n]:\n",
        "      print(x,y) "
      ],
      "execution_count": 8,
      "outputs": []
    },
    {
      "cell_type": "code",
      "source": [
        "def readdata():\n",
        "    gstudent=nx.read_gml(\"/content/sample_data/graph_student.gml\")\n",
        "    return gstudent\n",
        "gstudent=readdata()"
      ],
      "metadata": {
        "id": "fBh7vWP_HTKs"
      },
      "execution_count": 10,
      "outputs": []
    },
    {
      "cell_type": "markdown",
      "metadata": {
        "id": "pBEDwZKyta57"
      },
      "source": [
        "#Evaluation Metrics Gstudents"
      ]
    },
    {
      "cell_type": "code",
      "metadata": {
        "id": "3j20b8sTnXon",
        "colab": {
          "base_uri": "https://localhost:8080/"
        },
        "outputId": "f0358865-5444-4200-8018-b5038ab404b5"
      },
      "source": [
        "#complete\n",
        "\n",
        "import networkx.algorithms.community as nx_comm\n",
        "#louvain\n",
        "print(\"Louvain \")\n",
        "partlou = community_louvain.best_partition(gstudent)\n",
        "com=part2com(partlou)\n",
        "partition=com2lsetcom(com)\n",
        "sizelou=len(com)\n",
        "modlou=community_louvain.modularity(partlou,gstudent)\n",
        "labels=[y for x,y in partlou.items()]\n",
        "elou=entropy(labels)\n",
        "covrglou=nx_comm.coverage(gstudent,partition)\n",
        "performlou=nx_comm.performance(gstudent,partition)\n",
        "dlou=[]\n",
        "for i in range(sizelou):\n",
        "  lcom=com[i]\n",
        "  gcom=gstudent.subgraph(lcom) \n",
        "  dl=nx.density(gcom)\n",
        "  dlou.append(dl)\n",
        "print(\"density lou :\",dlou)\n",
        "avgdlou=np.average(dlou) \n",
        "print(\"size community :\",sizelou)\n",
        "print(\"modularity  : \",modlou)\n",
        "print(\"coverage :\",covrglou)\n",
        "print(\"performance:\",performlou)\n",
        "print(\"entropi:\",elou)\n",
        "print(\"avg density:\",avgdlou)\n",
        "\n",
        "\n",
        "#greedy_modularity_communities algorithm\n",
        "print(\"Greedy\")\n",
        "comk=nx_comm.greedy_modularity_communities(gstudent)\n",
        "com=frozen2com(comk)\n",
        "part=com2part(com)\n",
        "labels=[y for x,y in part.items()]\n",
        "egre=entropy(labels)\n",
        "modgre=nx_comm.modularity(gstudent,comk)\n",
        "performgre=nx_comm.performance(gstudent,comk)\n",
        "covrggre=nx_comm.coverage(gstudent,comk)\n",
        "sizegre=len(comk)\n",
        "dgre=[]\n",
        "for i in range(sizegre):\n",
        "  lcom=com[i]\n",
        "  gcom=gstudent.subgraph(lcom) \n",
        "  dg=nx.density(gcom)\n",
        "  dgre.append(dg)\n",
        "avgdgre=np.average(dgre) \n",
        "print(\"size Greey CN:\",sizegre)\n",
        "print(\"modularity Greey CN:\",modgre)\n",
        "print(\"coverage :\",covrggre)\n",
        "print(\"performance:\",performgre)\n",
        "print(\"entropy greedy :\",egre)\n",
        "print(\"avg density:\",avgdgre)\n",
        "\n",
        "\n",
        "#LPA\n",
        "print(\" LPA \")\n",
        "coml=nx_comm.label_propagation_communities(gstudent)\n",
        "lcom=[i for i in coml]\n",
        "ll=list_set2list_list(lcom)\n",
        "com=list_list2com(ll)\n",
        "part=com2part(com)\n",
        "labels=[y for x,y in part.items()]\n",
        "elpa=entropy(labels)\n",
        "modlpa=nx_comm.modularity(gstudent,lcom)\n",
        "sizelpa=len(lcom)\n",
        "covrglpa=nx_comm.coverage(gstudent,lcom)\n",
        "performlpa=nx_comm.performance(gstudent,lcom)\n",
        "sizegre=len(com)\n",
        "dlpa=[]\n",
        "for i in range(sizegre):\n",
        "  lcom=com[i]\n",
        "  gcom=gstudent.subgraph(lcom)\n",
        "  dl=nx.density(gcom)\n",
        "  dlpa.append(dl)\n",
        "avgdlpa=np.average(dlpa) \n",
        "print(\"size com:\",sizelpa)\n",
        "print(\"modularity LPA:\",modlpa)\n",
        "print(\"performance:\",performlpa)\n",
        "print(\"coverage :\",covrglpa)\n",
        "print(\"entropy :\",elpa)\n",
        "print(\"density :\",avgdlpa)\n",
        "\n",
        "#Kernighan_Lin Bisection algorithm\n",
        "print(\"Ker-Lin\")\n",
        "comk=nx_comm.kernighan_lin_bisection(gstudent)\n",
        "sizeker=len(list(comk))\n",
        "modker=nx_comm.modularity(gstudent,comk)\n",
        "covrgker=nx_comm.coverage(gstudent,comk)\n",
        "performker=nx_comm.performance(gstudent,comk)\n",
        "ll=list_set2list_list(list(comk))\n",
        "com=list_list2com(ll)\n",
        "part=com2part(com)\n",
        "labels=[y for x,y in part.items()]\n",
        "eker=entropy(labels)\n",
        "dker=[]\n",
        "for i in range(sizeker):\n",
        "  lcom=com[i]\n",
        "  gcom=gstudent.subgraph(lcom) \n",
        "  dk=nx.density(gcom)\n",
        "  dker.append(dk)\n",
        "avgdker=np.average(dker) \n",
        "print(\"modularity Kernighan:\",modker)\n",
        "print(\"len com Ker-lin :\",len(list(comk)))\n",
        "print(\"coverage kernighan :\",covrgker)\n",
        "print(\"performance kernighan :\",performker)\n",
        "print(\"entropy :\",elpa)\n",
        "print(\"density :\",avgdlpa)\n",
        "\n",
        "\n",
        "#Fluid Communities algorithm\n",
        "print(\"Fluid\")\n",
        "import networkx.algorithms.community as nx_comm\n",
        "comflu=nx_comm.asyn_fluidc(gstudent,2)\n",
        "z=list(comflu)\n",
        "#print(type(comf))\n",
        "ll=list_set2list_list(z)\n",
        "com=list_list2com(ll)\n",
        "part=com2part(com)\n",
        "labels=[y for x,y in part.items()]\n",
        "eflu=entropy(labels)\n",
        "sizeflu=len(z)\n",
        "dflu=[]\n",
        "for i in range(sizeflu):\n",
        "  lcom=com[i]\n",
        "  gcom=gstudent.subgraph(lcom) \n",
        "  df=nx.density(gcom)\n",
        "  dflu.append(df)\n",
        "avgdflu=np.average(dflu) \n",
        "modflu=nx_comm.modularity(gstudent,nx_comm.asyn_fluidc(gstudent,2))\n",
        "covrgflu=nx_comm.coverage(gstudent,z)\n",
        "performflu=nx_comm.performance(gstudent,z)\n",
        "print(\"modularity fluid algorithm :\",modflu)\n",
        "print(\"size com fluid :\",sizeflu)\n",
        "print(\"coverage fluid algo :\",covrgflu)\n",
        "print(\"performance fluid algo :\",performflu)\n",
        "print(\"entropy fluid algo :\",eflu)\n",
        "print(\"avg density fluid algo :\",avgdflu)\n",
        "\n",
        "\n",
        "#Girvan_newman ALgorithm\n",
        "print(\"Girvan Newman \")\n",
        "import networkx.algorithms.community as nx_comm\n",
        "comg=nx_comm.girvan_newman(gstudent)\n",
        "top_level_com=next(comg)\n",
        "ll=list_set2list_list(top_level_com)\n",
        "com=list_list2com(ll)\n",
        "part=com2part(com)\n",
        "labels=[y for x,y in part.items()]\n",
        "egir=entropy(labels)\n",
        "sizegir=len(top_level_com)\n",
        "dgir=[]\n",
        "for i in range(sizegir):\n",
        "  lcom=com[i]\n",
        "  gcom=gstudent.subgraph(lcom) \n",
        "  dg=nx.density(gcom)\n",
        "  dgir.append(dg)\n",
        "avgdgir=np.average(dgir) \n",
        "modgir=nx_comm.modularity(gstudent,top_level_com)\n",
        "covrggir=nx_comm.coverage(gstudent,top_level_com)\n",
        "performgir=nx_comm.performance(gstudent,top_level_com)\n",
        "print(\"modularity girvan_newman :\",modgir)\n",
        "print(\"len com GN :\",len(top_level_com))\n",
        "print(\"coverage girvan_newman :\",covrggir)\n",
        "print(\"perform girvan_newman :\",performgir)\n",
        "print(\"entropy girvan_newman :\",egir)\n",
        "print(\"avg density girvan_newman :\",avgdgir)\n"
      ],
      "execution_count": 11,
      "outputs": [
        {
          "output_type": "stream",
          "name": "stdout",
          "text": [
            "Louvain \n",
            "density lou : [0.28888888888888886, 0.6666666666666666, 0.17195767195767195, 0.27472527472527475, 0.13790970933828076, 0.1794871794871795, 0.13277428371767994, 0.16312056737588654, 0.36363636363636365, 1.0, 0.3333333333333333, 0.42857142857142855, 0.0893707033315706, 0.34502923976608185, 0.42857142857142855, 0.5]\n",
            "size community : 16\n",
            "modularity  :  0.7033145146197789\n",
            "coverage : 0.8685868586858686\n",
            "performance: 0.9082702206046334\n",
            "entropi: 3.5149509984107334\n",
            "avg density: 0.34400267121048345\n",
            "Greedy\n",
            "size Greey CN: 12\n",
            "modularity Greey CN: 0.6871708210425003\n",
            "coverage : 0.8982898289828983\n",
            "performance: 0.8634624133593812\n",
            "entropy greedy : 2.9663906932178308\n",
            "avg density: 0.31545253666937756\n",
            " LPA \n",
            "size com: 44\n",
            "modularity LPA: 0.666469054646239\n",
            "performance: 0.9252995066948555\n",
            "coverage : 0.8424842484248425\n",
            "entropy : 4.3617391499336415\n",
            "density : 0.7003730737134892\n",
            "Ker-Lin\n",
            "modularity Kernighan: 0.4267119331195045\n",
            "len com Ker-lin : 2\n",
            "coverage kernighan : 0.9540954095409541\n",
            "performance kernighan : 0.5190587059883498\n",
            "entropy : 4.3617391499336415\n",
            "density : 0.7003730737134892\n",
            "Fluid\n",
            "modularity fluid algorithm : 0.4571718985579927\n",
            "size com fluid : 2\n",
            "coverage fluid algo : 0.963096309630963\n",
            "performance fluid algo : 0.4769448979045682\n",
            "entropy fluid algo : 0.9379626436434423\n",
            "avg density fluid algo : 0.038758880732359044\n",
            "Girvan Newman \n",
            "modularity girvan_newman : 0.14020086752149552\n",
            "len com GN : 2\n",
            "coverage girvan_newman : 0.9977497749774977\n",
            "perform girvan_newman : 0.22854390237375224\n",
            "entropy girvan_newman : 0.5240006479593671\n",
            "avg density girvan_newman : 0.06661958198308066\n"
          ]
        }
      ]
    },
    {
      "cell_type": "code",
      "metadata": {
        "colab": {
          "base_uri": "https://localhost:8080/"
        },
        "id": "AlF8eG4RrfDE",
        "outputId": "a75b347d-0666-414d-daab-79b0a56e365e"
      },
      "source": [
        "#from igraph\n",
        "g=gstudent\n",
        "g=nx.convert_node_labels_to_integers(g)\n",
        "ig=ig.Graph.from_networkx(g)\n",
        "cominf=ig.community_infomap()\n",
        "#print(cominf)\n",
        "mem=cominf.membership\n",
        "part=mem2part(mem)\n",
        "com=part2com(part)\n",
        "partition=com2lsetcom(com)\n",
        "labels=[y for x,y in part.items()]\n",
        "einf=entropy(labels)\n",
        "modinf=ig.modularity(cominf)\n",
        "print(partition)\n",
        "covrginf=nx_comm.coverage(g,partition)\n",
        "performinf=nx_comm.performance(g,partition)\n",
        "sizeinf=len(cominf)\n",
        "dinf=[]\n",
        "for i in range(sizeinf):\n",
        "  lcom=com[i]\n",
        "gcom=g.subgraph(lcom) \n",
        "di=nx.density(gcom)\n",
        "dinf.append(di)\n",
        "avgdinf=np.average(dinf)\n",
        "print(\"modularity infomap :\",modinf)\n",
        "print(\"len com infomap :\",len(top_level_com))\n",
        "print(\"coverage infomap :\",covrginf)\n",
        "print(\"perform infomap :\",performinf)\n",
        "print(\"entropy infomap :\",egir)\n",
        "print(\"avg density infomap :\",avgdinf)\n",
        "\n"
      ],
      "execution_count": 12,
      "outputs": [
        {
          "output_type": "stream",
          "name": "stdout",
          "text": [
            "[{0, 137, 17, 275, 279, 154, 291, 46, 432, 305, 50, 183, 316, 317, 190, 318, 320, 323, 72, 74, 204, 332, 210, 338, 352, 244, 372, 126}, {1, 65, 131, 5, 70, 42, 43, 44, 106, 47, 18, 116, 88, 93, 31}, {2, 7, 9, 10, 13, 30, 290, 37, 39, 49, 51, 60, 62, 63, 67, 69, 84, 101, 103, 115, 121, 122}, {3, 4, 8, 41, 45, 14, 79, 109, 21, 54, 23, 56, 28, 125}, {6, 15, 19, 22, 33, 38, 94, 97, 104, 108, 110, 118, 127, 135, 144, 149, 150, 152, 161, 164, 173, 174, 184, 185, 187, 188, 189, 191, 196, 197, 211, 232, 236, 241, 252, 253, 260, 264, 265, 267, 270, 271, 272, 273, 274, 283, 288, 293, 294, 295, 311, 313, 326, 333, 346, 347, 350, 351, 355, 358, 364, 385, 396, 397, 399, 400, 402, 403, 404, 405, 417, 424, 436, 438, 439, 441, 444, 450, 455, 465}, {71, 105, 11, 12, 75, 77, 139, 61, 20, 86, 55, 57, 29}, {16, 64, 96, 78}, {102, 134, 168, 73, 76, 82, 24, 27}, {40, 25, 124}, {36, 58, 90, 123, 113, 83, 26, 59}, {32, 92}, {34, 195, 261, 229, 357, 361, 330, 299, 363, 243, 345}, {48, 35, 53, 111}, {129, 258, 163, 289, 230, 107, 114, 52, 214, 119, 218, 91, 286}, {66, 130, 170, 138, 278, 254}, {98, 68, 100, 169, 80, 117, 87, 120, 89}, {81, 259, 85, 151}, {99, 300, 337, 371, 342, 95}, {452, 408, 329, 395, 398, 143, 112, 145, 368, 369, 443, 374, 376, 315, 157, 445}, {128, 226, 133, 334, 175, 176, 239, 336, 310, 251}, {386, 132, 392, 407, 162, 171, 434, 192, 325, 453, 199, 462, 463, 467, 468, 469, 225, 227, 237, 242, 373, 248}, {419, 136, 266, 268, 205, 206, 269, 209, 212, 344}, {296, 297, 360, 140, 303, 208, 304, 340, 182, 247, 380, 221, 222, 375}, {160, 448, 449, 451, 446, 454, 456, 447, 457, 458, 460, 141, 142, 148, 409, 158, 415}, {418, 420, 390, 359, 167, 234, 394, 146, 348}, {384, 200, 301, 147, 471, 220}, {292, 440, 231, 433, 435, 308, 213, 181, 245, 437, 153}, {256, 194, 166, 262, 327, 393, 365, 430, 431, 280, 249, 155, 287}, {172, 466, 339, 472, 282, 156, 285}, {179, 461, 159}, {257, 165, 198, 423, 328, 425, 410, 177, 180, 341, 217, 250}, {387, 388, 389, 391, 178, 277, 406, 215, 411, 412, 413, 414, 223}, {321, 322, 306, 307, 473, 186, 319}, {193, 202, 298, 367}, {416, 354, 263, 201, 233, 203, 235, 459, 335, 464, 276, 309, 442, 381}, {353, 228, 324, 421, 422, 362, 331, 207, 240, 401, 343, 216, 281, 349, 255}, {219, 284, 238, 246}, {224, 314, 366}, {356, 302}, {426, 427, 428, 429, 470, 312, 377, 378, 379}, {370, 382, 383}]\n",
            "modularity infomap : 0.6721330998986487\n",
            "len com infomap : 2\n",
            "coverage infomap : 0.7893789378937894\n",
            "perform infomap : 0.9614098000909894\n",
            "entropy infomap : 0.5240006479593671\n",
            "avg density infomap : 1.0\n"
          ]
        }
      ]
    },
    {
      "cell_type": "code",
      "source": [
        "print(\"Walktrap\")\n",
        "wal=ig.community_walktrap()\n",
        "#g.community_walktrap().as_clustering().membership\n",
        "comwal=wal.as_clustering()\n",
        "mem=comwal.membership\n",
        "part=mem2part(mem)\n",
        "com=mem2com(mem)\n",
        "partition=com2lsetcom(com)\n",
        "sizewal=len(comwal)\n",
        "modwal=ig.modularity(comwal)\n",
        "covrgwal=nx_comm.coverage(g,partition)\n",
        "performwal=nx_comm.performance(g,partition)\n",
        "labels=[y for x,y in part.items()]\n",
        "ewal=entropy(labels)\n",
        "dwal=[]\n",
        "for i in range(sizewal):\n",
        "  lcom=com[i]\n",
        "  gcom=g.subgraph(lcom) \n",
        "  dw=nx.density(gcom)\n",
        "  dwal.append(dw)\n",
        "avgdwal=np.average(dwal)\n",
        "print(\"modularity : \",modwal)\n",
        "print(\"size com :\",sizewal)\n",
        "print(\"coverage : \",covrgwal)\n",
        "print(\"performan  :\",performwal)\n",
        "print(\"entropy  :\",ewal)\n",
        "print(\"avg density  :\",avgdwal)"
      ],
      "metadata": {
        "colab": {
          "base_uri": "https://localhost:8080/"
        },
        "id": "nMpMU0LBe2YP",
        "outputId": "3f47061b-f89c-4989-e73d-d7329cefd430"
      },
      "execution_count": 13,
      "outputs": [
        {
          "output_type": "stream",
          "name": "stdout",
          "text": [
            "Walktrap\n",
            "modularity :  0.6491344228932342\n",
            "size com : 35\n",
            "coverage :  0.891989198919892\n",
            "performan  : 0.87044718601975\n",
            "entropy  : 3.7546739737653674\n",
            "avg density  : 0.6960068463777666\n"
          ]
        }
      ]
    },
    {
      "cell_type": "code",
      "source": [
        "print(\"Spinglas\")\n",
        "comspi=ig.community_spinglass()\n",
        "mem=comspi.membership\n",
        "part=mem2part(mem)\n",
        "com=mem2com(mem)\n",
        "partition=com2lsetcom(com)\n",
        "sizespi=len(comspi)\n",
        "modspi=ig.modularity(comspi)\n",
        "covrgspi=nx_comm.coverage(g,partition)\n",
        "performspi=nx_comm.performance(g,partition)\n",
        "labels=[y for x,y in part.items()]\n",
        "espi=entropy(labels)\n",
        "dspi=[]\n",
        "for i in range(sizespi):\n",
        "  lcom=com[i]\n",
        "  gcom=g.subgraph(lcom) \n",
        "  ds=nx.density(gcom)\n",
        "  dspi.append(ds)\n",
        "avgdspi=np.average(dspi)\n",
        "print(\"modularity : \",modspi)\n",
        "print(\"size com :\",sizespi)\n",
        "print(\"coverage : \",covrgspi)\n",
        "print(\"performan  :\",performspi)\n",
        "print(\"entropy  :\",espi)\n",
        "print(\"avg density  :\",avgdspi)"
      ],
      "metadata": {
        "colab": {
          "base_uri": "https://localhost:8080/"
        },
        "id": "HHzuY0eCffBr",
        "outputId": "0b687b6c-a11e-4425-d48c-e0bf4a9fdcdf"
      },
      "execution_count": 14,
      "outputs": [
        {
          "output_type": "stream",
          "name": "stdout",
          "text": [
            "Spinglas\n",
            "modularity :  0.7115204432234401\n",
            "size com : 18\n",
            "coverage :  0.8712871287128713\n",
            "performan  : 0.9165484696835889\n",
            "entropy  : 3.66708652019704\n",
            "avg density  : 0.35963898411439443\n"
          ]
        }
      ]
    },
    {
      "cell_type": "code",
      "source": [
        "#leiden\n",
        "comlei=ig.community_leiden()\n",
        "mem=comlei.membership\n",
        "part=mem2part(mem)\n",
        "com=part2com(part)\n",
        "partition=com2lsetcom(com)\n",
        "sizelei=len(comlei)\n",
        "modlei=ig.modularity(comlei)\n",
        "covrglei=nx_comm.coverage(g,partition)\n",
        "performlei=nx_comm.performance(g,partition)\n",
        "labels=[y for x,y in part.items()]\n",
        "elei=entropy(labels)\n",
        "dlei=[]\n",
        "for i in range(sizelei):\n",
        "  lcom=com[i]\n",
        "  gcom=g.subgraph(lcom) \n",
        "  dl=nx.density(gcom)\n",
        "  dlei.append(dl)\n",
        "avgdlei=np.average(dlei)\n",
        "print(\"modularity : \",modspi)\n",
        "print(\"size com :\",sizespi)\n",
        "print(\"coverage : \",covrgspi)\n",
        "print(\"performan  :\",performspi)\n",
        "print(\"entropy  :\",espi)\n",
        "print(\"avg density  :\",avgdspi)"
      ],
      "metadata": {
        "colab": {
          "base_uri": "https://localhost:8080/"
        },
        "id": "qTaXXqgPgczX",
        "outputId": "4cb10a26-eff0-445d-ce5d-d05c6cc13326"
      },
      "execution_count": 15,
      "outputs": [
        {
          "output_type": "stream",
          "name": "stdout",
          "text": [
            "modularity :  0.7115204432234401\n",
            "size com : 18\n",
            "coverage :  0.8712871287128713\n",
            "performan  : 0.9165484696835889\n",
            "entropy  : 3.66708652019704\n",
            "avg density  : 0.35963898411439443\n"
          ]
        }
      ]
    },
    {
      "cell_type": "code",
      "source": [
        "Modlib_student=[]\n",
        "Covlib_student=[]\n",
        "Perlib_student=[]\n",
        "Sizelib_student=[]\n",
        "Entlib_student=[]\n",
        "Denlib_student=[]\n",
        "\n",
        "for i in [modlou,modspi,modwal,modinf,modlpa,modgre,modflu,modgir,modker,modlei]:\n",
        "  Modlib_student.append(np.around(i,2))\n",
        "for i in [sizelou,sizespi,sizewal,sizeinf,sizelpa,sizegre,sizeflu,sizegir,sizeker,sizelei]:\n",
        "  Sizelib_student.append(np.around(i,2))\n",
        "Sizelib_studentminLei=[]\n",
        "for i in [sizelou,sizespi,sizewal,sizeinf,sizelpa,sizegre,sizeflu,sizegir,sizeker]:\n",
        "  Sizelib_studentminLei.append(np.around(i,2))\n",
        "for i in [covrglou,covrgspi,covrgwal,covrginf,covrglpa,covrggre,covrgflu,covrggir,covrgker,covrglei]:\n",
        "  Covlib_student.append(np.around(i,2))\n",
        "for i in [performlou,performspi,performwal,performinf,performlpa,performgre,performflu,performgir,performker,performlei]:\n",
        "  Perlib_student.append(np.around(i,2))\n",
        "for i in [elou,espi,ewal,einf,elpa,egre,eflu,egir,eker,elei]:\n",
        "  Entlib_student.append(np.around(i,2))\n",
        "for i in [avgdlou,avgdspi,avgdwal,avgdinf,avgdlpa,avgdgre,avgdflu,avgdgir,avgdker,avgdlei]:\n",
        "  Denlib_student.append(np.around(i,2))\n",
        "\n",
        "print(\"Modularity :\",Modlib_student)\n",
        "print(\"Size com :\",Sizelib_student)\n",
        "print(\"Coverage :\",Covlib_student)\n",
        "print(\"Performance :\",Perlib_student)\n",
        "print(\"Entropy :\",Entlib_student)\n",
        "print(\"Density :\",Denlib_student)"
      ],
      "metadata": {
        "id": "d5zysZ6qLWqD",
        "colab": {
          "base_uri": "https://localhost:8080/"
        },
        "outputId": "359011f0-0e49-4d84-b08b-38d8044487f2"
      },
      "execution_count": 16,
      "outputs": [
        {
          "output_type": "stream",
          "name": "stdout",
          "text": [
            "Modularity : [0.7, 0.71, 0.65, 0.67, 0.67, 0.69, 0.46, 0.14, 0.43, -0.0]\n",
            "Size com : [16, 18, 35, 41, 44, 44, 2, 2, 2, 474]\n",
            "Coverage : [0.87, 0.87, 0.89, 0.79, 0.84, 0.9, 0.96, 1.0, 0.95, 0.0]\n",
            "Performance : [0.91, 0.92, 0.87, 0.96, 0.93, 0.86, 0.48, 0.23, 0.52, 0.98]\n",
            "Entropy : [3.51, 3.67, 3.75, 4.86, 4.36, 2.97, 0.94, 0.52, 1.0, 8.89]\n",
            "Density : [0.34, 0.36, 0.7, 1.0, 0.7, 0.32, 0.04, 0.07, 0.04, 0.0]\n"
          ]
        }
      ]
    },
    {
      "cell_type": "code",
      "metadata": {
        "id": "CLvpCtnbBBvR"
      },
      "source": [
        "#save to json and txt\n",
        "from google.colab import files\n",
        "import json\n",
        "with open('/content/modstudent.json', 'w') as f: \n",
        "      json.dump(Modlib_student,f)\n",
        "with open('/content/covstudent.json', 'w') as f: \n",
        "      json.dump(Covlib_student,f)\n",
        "with open('/content/perstudent.json', 'w') as f: \n",
        "      json.dump(Perlib_student,f)\n",
        "with open('/content/denstudent.json', 'w') as f: \n",
        "      json.dump(Denlib_student,f)\n",
        "with open('/content/entstudent.json', 'w') as f: \n",
        "      json.dump(Entlib_student,f)\n",
        "with open('/contentsizestudent.txt', 'w') as file:\n",
        "        file.write('\\n'.join(str(s) for s in Sizelib_student))\n",
        "\n"
      ],
      "execution_count": 17,
      "outputs": []
    },
    {
      "cell_type": "code",
      "source": [
        "from google.colab import drive\n",
        "drive.mount('/content/drive')"
      ],
      "metadata": {
        "colab": {
          "base_uri": "https://localhost:8080/"
        },
        "id": "DVAQsimcQhCg",
        "outputId": "174e2d70-52a0-4502-de55-9a91ed670dce"
      },
      "execution_count": 18,
      "outputs": [
        {
          "output_type": "stream",
          "name": "stdout",
          "text": [
            "Mounted at /content/drive\n"
          ]
        }
      ]
    },
    {
      "cell_type": "code",
      "metadata": {
        "id": "xZxvBFClz3sV",
        "colab": {
          "base_uri": "https://localhost:8080/",
          "height": 1000
        },
        "outputId": "f9fdc8eb-dceb-437f-c6cd-34f4588e0967"
      },
      "source": [
        "#completed graphic\n",
        "import matplotlib.pyplot as plt\n",
        "\n",
        "from matplotlib.figure import Figure\n",
        "f = Figure( figsize =(7,7) )\n",
        "labels1 = ['Louvain','Spinglas','Walktrap','Infomap', 'LPA','Greedy','Fluid','G-N','Ker-Lin','Leiden']\n",
        "labels2 = ['Louvain','Spinglas','Walktrap','Infomap', 'LPA','Greedy','Fluid','G-N','Ker-Lin']\n",
        "\n",
        "# plot all minus size and entropy\n",
        "\n",
        "#plt.figure(figsize=[8,5])\n",
        "plt.plot(labels1, Modlib_student,c=\"b\",marker=\"o\", label = \"Modularity\", linestyle=\"solid\")\n",
        "plt.plot(labels1, Covlib_student,c=\"r\",marker=\"v\", label = \"Coverage\", linestyle=\"dotted\")\n",
        "plt.plot(labels1, Perlib_student,c=\"y\",marker=\"s\", label = \"Performance\", linestyle=\"dashed\")\n",
        "#plt.plot(labels1, Entlib_student,c=\"g\",marker=\"^\", label = \"Entropy\", linestyle=\"dashdot\")\n",
        "plt.plot(labels1, Denlib_student,c=\"k\",marker=\"p\", label = \"Density\", linestyle=\"-.\")\n",
        "plt.title('Community Detection Algorithms and Evaluation Metrics for Library Graph')\n",
        "plt.xlabel('ALgorithms')\n",
        "plt.ylabel('Scores')\n",
        "plt.grid(axis = 'y')\n",
        "plt.legend()\n",
        "plt.show()\n",
        "\n",
        "# plot all minus size\n",
        "plt.figure(figsize=[8,5])\n",
        "plt.plot(labels1, Modlib_student,c=\"b\",marker=\"o\", label = \"Modularity\", linestyle=\"solid\")\n",
        "plt.plot(labels1, Covlib_student,c=\"r\",marker=\"v\", label = \"Coverage\", linestyle=\"dotted\")\n",
        "plt.plot(labels1, Perlib_student,c=\"y\",marker=\"s\", label = \"Performance\", linestyle=\"dashed\")\n",
        "plt.plot(labels1, Entlib_student,c=\"g\",marker=\"^\", label = \"Entropy\", linestyle=\"dashdot\")\n",
        "plt.plot(labels1, Denlib_student,c=\"k\",marker=\"p\", label = \"Density\", linestyle=\"-.\")\n",
        "plt.title('Community Detection Algorithms and Evaluation Metrics for Library Graph')\n",
        "plt.xlabel('ALgorithms')\n",
        "plt.ylabel('Scores')\n",
        "plt.grid(axis = 'y')\n",
        "plt.legend()\n",
        "plt.show()\n",
        "\n",
        "# plot lines size \n",
        "plt.figure(figsize=[8,5])\n",
        "plt.plot(labels1,Sizelib_student,marker=\"o\", label = \"Size Community\", linestyle=\"dotted\")\n",
        "plt.title(' Size of Communtiy  for library graph')\n",
        "plt.xlabel('Algorithms')\n",
        "plt.ylabel('Number of Community')\n",
        "plt.legend()\n",
        "plt.show()\n",
        "\n",
        "\n",
        "# plot lines size without leiden\n",
        "plt.figure(figsize=[8,5])\n",
        "plt.plot(labels2, Sizelib_studentminLei,marker=\"s\", label = \"Size Community\", linestyle=\"dotted\")\n",
        "plt.title(' Size of Community for library graph (without leiden)')\n",
        "plt.xlabel('Algorithms')\n",
        "plt.ylabel('Number of Community')\n",
        "plt.legend()\n",
        "plt.show()"
      ],
      "execution_count": 23,
      "outputs": [
        {
          "output_type": "display_data",
          "data": {
            "text/plain": [
              "<Figure size 432x288 with 1 Axes>"
            ],
            "image/png": "[encoded data removed]"
          },
          "metadata": {
            "needs_background": "light"
          }
        },
        {
          "output_type": "display_data",
          "data": {
            "text/plain": [
              "<Figure size 576x360 with 1 Axes>"
            ],
            "image/png": "[encoded data removed]"
          },
          "metadata": {
            "needs_background": "light"
          }
        },
        {
          "output_type": "display_data",
          "data": {
            "text/plain": [
              "<Figure size 576x360 with 1 Axes>"
            ],
            "image/png": "[encoded data removed]"
          },
          "metadata": {
            "needs_background": "light"
          }
        },
        {
          "output_type": "display_data",
          "data": {
            "text/plain": [
              "<Figure size 576x360 with 1 Axes>"
            ],
            "image/png": "[encoded data removed]"
          },
          "metadata": {
            "needs_background": "light"
          }
        }
      ]
    },
    {
      "cell_type": "markdown",
      "metadata": {
        "id": "t5-MJ9FovFj4"
      },
      "source": [
        "#community distribution"
      ]
    },
    {
      "cell_type": "code",
      "metadata": {
        "id": "T8NEc9wzEmqU"
      },
      "source": [
        "#save label\n",
        "labels = ['Louvain','Spinglas','Walktrap','Infomap', 'LPA','Greedy','Fluid','G-N','Ker-Lin','Leiden']\n",
        "with open('/content/labelstudent.json', 'w') as f: \n",
        "      json.dump(labels,f)"
      ],
      "execution_count": 25,
      "outputs": []
    },
    {
      "cell_type": "code",
      "metadata": {
        "id": "qV7kQFLC7mnp",
        "colab": {
          "base_uri": "https://localhost:8080/",
          "height": 565
        },
        "outputId": "5f971b12-ae83-4e6d-aca6-3cd3aca70349"
      },
      "source": [
        "#distribusi community with CD louvain\n",
        "print(partlou)\n",
        "comlou=part2com(partlou)\n",
        "print(comlou)\n",
        "\n",
        "no_com=[i for i in range(len(comlou))]\n",
        "c=[len(n) for n in comlou.values()]\n",
        "com= sorted(c, reverse=True)\n",
        "\n",
        "fig = plt.figure()\n",
        "ax = fig.add_axes([0,0,1.5,1.5])\n",
        "ax.bar(no_com,com,width=0.8,color='blue')\n",
        "for i in range(len(no_com)):\n",
        "  plt.text(i,com[i],com[i],ha=\"center\",va=\"bottom\")\n",
        "plt.xlabel(\"Communtiy\")\n",
        "plt.ylabel(\"member of community\")\n",
        "plt.title(\" Community student Library Graph  Modularity\")\n",
        "plt.show()"
      ],
      "execution_count": 26,
      "outputs": [
        {
          "output_type": "stream",
          "name": "stdout",
          "text": [
            "{'0': 0, '1': 5, '2': 2, '3': 3, '4': 3, '5': 5, '6': 4, '7': 2, '8': 3, '9': 2, '10': 2, '11': 5, '12': 5, '13': 2, '14': 3, '15': 4, '16': 2, '17': 0, '18': 5, '19': 4, '20': 5, '21': 3, '22': 4, '23': 3, '24': 4, '25': 0, '26': 5, '27': 4, '28': 3, '29': 5, '30': 2, '31': 5, '32': 2, '33': 4, '34': 6, '35': 5, '36': 5, '37': 2, '38': 4, '39': 2, '40': 0, '41': 3, '42': 5, '43': 5, '44': 5, '45': 3, '46': 0, '47': 5, '48': 5, '49': 2, '50': 0, '51': 2, '52': 7, '53': 5, '54': 3, '55': 5, '56': 3, '57': 5, '58': 5, '59': 5, '60': 2, '61': 5, '62': 2, '63': 2, '64': 2, '65': 5, '66': 9, '67': 2, '68': 10, '69': 2, '70': 5, '71': 5, '72': 0, '73': 4, '74': 0, '75': 5, '76': 4, '77': 5, '78': 2, '79': 3, '80': 10, '81': 11, '82': 4, '83': 5, '84': 2, '85': 11, '86': 5, '87': 10, '88': 5, '89': 10, '90': 5, '91': 7, '92': 2, '93': 5, '94': 4, '95': 6, '96': 2, '97': 4, '98': 10, '99': 6, '100': 10, '101': 2, '102': 4, '103': 2, '104': 4, '105': 5, '106': 5, '107': 7, '108': 4, '109': 3, '110': 4, '111': 5, '112': 12, '113': 5, '114': 7, '115': 2, '116': 5, '117': 10, '118': 4, '119': 7, '120': 10, '121': 2, '122': 2, '123': 5, '124': 0, '125': 3, '126': 0, '127': 4, '128': 13, '129': 7, '130': 9, '131': 5, '132': 7, '133': 13, '134': 4, '135': 4, '136': 14, '137': 0, '138': 9, '139': 5, '140': 12, '141': 14, '142': 14, '143': 12, '144': 4, '145': 12, '146': 6, '147': 7, '148': 14, '149': 4, '150': 4, '151': 11, '152': 4, '153': 15, '154': 0, '155': 6, '156': 6, '157': 12, '158': 14, '159': 11, '160': 14, '161': 4, '162': 7, '163': 7, '164': 4, '165': 8, '166': 6, '167': 6, '168': 4, '169': 10, '170': 9, '171': 7, '172': 4, '173': 4, '174': 4, '175': 13, '176': 13, '177': 8, '178': 7, '179': 11, '180': 8, '181': 15, '182': 12, '183': 0, '184': 4, '185': 4, '186': 12, '187': 4, '188': 4, '189': 4, '190': 0, '191': 4, '192': 7, '193': 1, '194': 6, '195': 6, '196': 4, '197': 4, '198': 8, '199': 12, '200': 7, '201': 6, '202': 1, '203': 6, '204': 0, '205': 14, '206': 14, '207': 12, '208': 12, '209': 14, '210': 0, '211': 4, '212': 14, '213': 15, '214': 7, '215': 7, '216': 12, '217': 6, '218': 7, '219': 12, '220': 7, '221': 12, '222': 12, '223': 7, '224': 12, '225': 0, '226': 13, '227': 7, '228': 12, '229': 6, '230': 7, '231': 4, '232': 4, '233': 6, '234': 6, '235': 6, '236': 4, '237': 7, '238': 12, '239': 13, '240': 12, '241': 4, '242': 7, '243': 4, '244': 0, '245': 15, '246': 12, '247': 12, '248': 0, '249': 6, '250': 8, '251': 13, '252': 4, '253': 4, '254': 0, '255': 12, '256': 6, '257': 8, '258': 7, '259': 11, '260': 4, '261': 6, '262': 6, '263': 6, '264': 4, '265': 4, '266': 14, '267': 4, '268': 14, '269': 14, '270': 4, '271': 4, '272': 4, '273': 4, '274': 4, '275': 0, '276': 4, '277': 7, '278': 9, '279': 0, '280': 6, '281': 12, '282': 14, '283': 4, '284': 12, '285': 14, '286': 7, '287': 6, '288': 4, '289': 7, '290': 2, '291': 0, '292': 15, '293': 4, '294': 4, '295': 4, '296': 4, '297': 12, '298': 1, '299': 6, '300': 6, '301': 7, '302': 4, '303': 12, '304': 12, '305': 0, '306': 12, '307': 12, '308': 15, '309': 6, '310': 13, '311': 4, '312': 13, '313': 4, '314': 12, '315': 12, '316': 0, '317': 0, '318': 0, '319': 12, '320': 0, '321': 12, '322': 12, '323': 0, '324': 12, '325': 7, '326': 4, '327': 6, '328': 8, '329': 12, '330': 6, '331': 4, '332': 0, '333': 4, '334': 13, '335': 6, '336': 13, '337': 6, '338': 0, '339': 4, '340': 12, '341': 8, '342': 6, '343': 12, '344': 14, '345': 6, '346': 4, '347': 4, '348': 6, '349': 12, '350': 4, '351': 4, '352': 0, '353': 12, '354': 6, '355': 4, '356': 4, '357': 6, '358': 4, '359': 6, '360': 12, '361': 6, '362': 12, '363': 6, '364': 4, '365': 6, '366': 12, '367': 1, '368': 12, '369': 12, '370': 12, '371': 6, '372': 0, '373': 7, '374': 12, '375': 12, '376': 12, '377': 13, '378': 13, '379': 13, '380': 12, '381': 6, '382': 12, '383': 12, '384': 7, '385': 4, '386': 0, '387': 7, '388': 7, '389': 7, '390': 6, '391': 7, '392': 0, '393': 6, '394': 6, '395': 12, '396': 4, '397': 4, '398': 12, '399': 4, '400': 4, '401': 12, '402': 4, '403': 4, '404': 4, '405': 4, '406': 7, '407': 7, '408': 12, '409': 14, '410': 8, '411': 7, '412': 7, '413': 7, '414': 7, '415': 14, '416': 6, '417': 4, '418': 6, '419': 14, '420': 6, '421': 12, '422': 12, '423': 8, '424': 4, '425': 8, '426': 13, '427': 13, '428': 13, '429': 13, '430': 6, '431': 6, '432': 0, '433': 15, '434': 12, '435': 15, '436': 4, '437': 4, '438': 4, '439': 4, '440': 15, '441': 4, '442': 6, '443': 12, '444': 4, '445': 12, '446': 14, '447': 14, '448': 14, '449': 14, '450': 4, '451': 14, '452': 12, '453': 7, '454': 14, '455': 4, '456': 14, '457': 14, '458': 14, '459': 6, '460': 14, '461': 11, '462': 7, '463': 7, '464': 6, '465': 4, '466': 4, '467': 7, '468': 7, '469': 7, '470': 13, '471': 7, '472': 6, '473': 12}\n",
            "{0: ['0', '17', '25', '40', '46', '50', '72', '74', '124', '126', '137', '154', '183', '190', '204', '210', '225', '244', '248', '254', '275', '279', '291', '305', '316', '317', '318', '320', '323', '332', '338', '352', '372', '386', '392', '432'], 1: ['193', '202', '298', '367'], 2: ['2', '7', '9', '10', '13', '16', '30', '32', '37', '39', '49', '51', '60', '62', '63', '64', '67', '69', '78', '84', '92', '96', '101', '103', '115', '121', '122', '290'], 3: ['3', '4', '8', '14', '21', '23', '28', '41', '45', '54', '56', '79', '109', '125'], 4: ['6', '15', '19', '22', '24', '27', '33', '38', '73', '76', '82', '94', '97', '102', '104', '108', '110', '118', '127', '134', '135', '144', '149', '150', '152', '161', '164', '168', '172', '173', '174', '184', '185', '187', '188', '189', '191', '196', '197', '211', '231', '232', '236', '241', '243', '252', '253', '260', '264', '265', '267', '270', '271', '272', '273', '274', '276', '283', '288', '293', '294', '295', '296', '302', '311', '313', '326', '331', '333', '339', '346', '347', '350', '351', '355', '356', '358', '364', '385', '396', '397', '399', '400', '402', '403', '404', '405', '417', '424', '436', '437', '438', '439', '441', '444', '450', '455', '465', '466'], 5: ['1', '5', '11', '12', '18', '20', '26', '29', '31', '35', '36', '42', '43', '44', '47', '48', '53', '55', '57', '58', '59', '61', '65', '70', '71', '75', '77', '83', '86', '88', '90', '93', '105', '106', '111', '113', '116', '123', '131', '139'], 6: ['34', '95', '99', '146', '155', '156', '166', '167', '194', '195', '201', '203', '217', '229', '233', '234', '235', '249', '256', '261', '262', '263', '280', '287', '299', '300', '309', '327', '330', '335', '337', '342', '345', '348', '354', '357', '359', '361', '363', '365', '371', '381', '390', '393', '394', '416', '418', '420', '430', '431', '442', '459', '464', '472'], 7: ['52', '91', '107', '114', '119', '129', '132', '147', '162', '163', '171', '178', '192', '200', '214', '215', '218', '220', '223', '227', '230', '237', '242', '258', '277', '286', '289', '301', '325', '373', '384', '387', '388', '389', '391', '406', '407', '411', '412', '413', '414', '453', '462', '463', '467', '468', '469', '471'], 8: ['165', '177', '180', '198', '250', '257', '328', '341', '410', '423', '425'], 9: ['66', '130', '138', '170', '278'], 10: ['68', '80', '87', '89', '98', '100', '117', '120', '169'], 11: ['81', '85', '151', '159', '179', '259', '461'], 12: ['112', '140', '143', '145', '157', '182', '186', '199', '207', '208', '216', '219', '221', '222', '224', '228', '238', '240', '246', '247', '255', '281', '284', '297', '303', '304', '306', '307', '314', '315', '319', '321', '322', '324', '329', '340', '343', '349', '353', '360', '362', '366', '368', '369', '370', '374', '375', '376', '380', '382', '383', '395', '398', '401', '408', '421', '422', '434', '443', '445', '452', '473'], 13: ['128', '133', '175', '176', '226', '239', '251', '310', '312', '334', '336', '377', '378', '379', '426', '427', '428', '429', '470'], 14: ['136', '141', '142', '148', '158', '160', '205', '206', '209', '212', '266', '268', '269', '282', '285', '344', '409', '415', '419', '446', '447', '448', '449', '451', '454', '456', '457', '458', '460'], 15: ['153', '181', '213', '245', '292', '308', '433', '435', '440']}\n"
          ]
        },
        {
          "output_type": "display_data",
          "data": {
            "text/plain": [
              "<Figure size 432x288 with 1 Axes>"
            ],
            "image/png": "[encoded data removed]"
          },
          "metadata": {
            "needs_background": "light"
          }
        }
      ]
    },
    {
      "cell_type": "code",
      "metadata": {
        "id": "BH6PCsbtNdar",
        "colab": {
          "base_uri": "https://localhost:8080/",
          "height": 269
        },
        "outputId": "e543868b-8fb0-4f73-d48b-38fd97fa134b"
      },
      "source": [
        "# pie chart form\n",
        "my_labels=[i for i in range(len(no_com))]\n",
        "import matplotlib.pyplot as plt\n",
        "plt.pie(com,labels=my_labels,autopct='%1.1f%%')\n",
        "plt.title('Community')\n",
        "plt.axis('equal')\n",
        "plt.show()"
      ],
      "execution_count": 27,
      "outputs": [
        {
          "output_type": "display_data",
          "data": {
            "text/plain": [
              "<Figure size 432x288 with 1 Axes>"
            ],
            "image/png": "[encoded data removed]"
          },
          "metadata": {}
        }
      ]
    },
    {
      "cell_type": "code",
      "metadata": {
        "id": "mRZdAMllI36o"
      },
      "source": [
        "#Analysis each comunity\n",
        "#find the most populer element(maximal degree)\n",
        "#for i in range(len(com)): print(com[i],gstudent.degree[com[i]])\n",
        "ldens=[]\n",
        "for i in range(len(comlou)):\n",
        "  print(\"community ke :\",i)\n",
        "  lcom=comlou[i]\n",
        "  print(\"size community :\",len(lcom))\n",
        "  #make com as subgraph from gstudent\n",
        "  gcom=gstudent.subgraph(lcom) \n",
        "  dens=nx.density(gcom)\n",
        "  ldens.append(dens)\n",
        "  print(\"density of  community {:.2f}\".format(dens))\n",
        "  #list degree\n",
        "  ldegree=[]\n",
        "  #print(\"degree :\",gstudent.degree[lcom[0]])\n",
        "  for i in range(len(lcom)):\n",
        "    ldegree.append(gstudent.degree[lcom[i]])\n",
        "  #print(ldegree)\n",
        "  #buat dictionary elemen_deg\n",
        "  dict_node_deg={}\n",
        "  for i in range(len(lcom)):\n",
        "    dict_node_deg[lcom[i]]=ldegree[i]\n",
        "  #print(\"dict node and_degree :\",dict_node_deg)\n",
        "  max_nostudent=max(dict_node_deg, key=dict_node_deg.get)\n",
        "  maxdeg_nostudent=max(dict_node_deg.values())\n",
        "  max_namestudent=[name for name,no in mapstudent.items() if no==max_nostudent]\n",
        "  print(\"Buku terpopuler :\",max_namestudent,\", degree :\",max(dict_node_deg.values()))\n",
        "print(\"list density :\",ldens)\n",
        "print(\"average density :\",np.average(ldens))\n",
        "print(\"standard deviasi density :\",np.std(ldens))\n",
        "  "
      ],
      "execution_count": null,
      "outputs": []
    },
    {
      "cell_type": "markdown",
      "metadata": {
        "id": "TomKYtNMCbg1"
      },
      "source": [
        "## Draw graph_book dengan size node berbeza"
      ]
    },
    {
      "cell_type": "code",
      "metadata": {
        "id": "ZHAotWr5CZW4"
      },
      "source": [
        "import matplotlib.pyplot as plt\n",
        "plt.figure(figsize=(8,8))\n",
        "plt.axis(\"off\")\n",
        "pos=nx.spring_layout(gstudent)\n",
        "alpha=0.5\n",
        "K = 100 # Scale factor\n",
        "d = nx.degree(gstudent) \n",
        "d = [d[node]*K for node in gstudent.nodes()]\n",
        "nx.draw_networkx_nodes(gstudent,pos,cmap=plt.cm.RdYlBu,node_color=list(part.values()))#node_size=d)\n",
        "nx.draw_networkx_edges(gstudent,pos)\n",
        "#nx.draw_networkx_labels(gs_x,pos)\n",
        "plt.show()"
      ],
      "execution_count": null,
      "outputs": []
    },
    {
      "cell_type": "markdown",
      "metadata": {
        "id": "nzhhSjeTLKEi"
      },
      "source": [
        "# Graph Students\n"
      ]
    },
    {
      "cell_type": "code",
      "metadata": {
        "id": "NgX3xoWNEb2q"
      },
      "source": [
        "gstudents=bipartite.projected_graph(gs,students)\n",
        "print(gstudents.nodes(data=True))\n",
        "print(gstudents.edges(data=True))\n",
        "\n",
        "#draw graph\n",
        "import matplotlib.pyplot as plt\n",
        "plt.figure(figsize=(10,10))\n",
        "plt.axis(\"off\")\n",
        "attr=nx.get_node_attributes(gstudents,\"attr\")\n",
        "pos=nx.spring_layout(gstudents)\n",
        "nx.draw_networkx_nodes(gstudents,pos,cmap=plt.cm.RdYlBu,node_color='blue')\n",
        "nx.draw_networkx_edges(gstudents,pos)\n",
        "#nx.draw_networkx_labels(gstudents,pos,attr)\n",
        "plt.show()"
      ],
      "execution_count": null,
      "outputs": []
    },
    {
      "cell_type": "code",
      "metadata": {
        "id": "KPIlHR-HkCUy"
      },
      "source": [
        "#property \n",
        "print(\"property Student graph :\")\n",
        "print(\"number of edges :\",nx.number_of_edges(gstudents))\n",
        "print(\"number of nodes :\",nx.number_of_nodes(gstudents))\n",
        "print(\"density :{:.2f}\".format(nx.density(gstudents)) )\n",
        "print(\"diameter :\",nx.diameter(gstudents) )\n",
        "print(\"maximum degree :\",max_degree(gstudents) )\n",
        "print(\"minimum degree :\",min_degree(gstudents) )\n",
        "print(\"Average degree :{:.2f}\".format(avg_degree(gstudents)))\n",
        "print(\"Assortativity :{:.2f}\".format(nx.degree_assortativity_coefficient(gstudents)))\n",
        "r=sum(nx.triangles(gstudents).values()) / 3\n",
        "print(\"Number of triangles\",r)\n",
        "print(\"Graph is connected :?\",nx.is_connected(gstudents)) \n",
        "print(\"Number of connected components :\",nx.number_connected_components(gstudents))\n",
        "\n"
      ],
      "execution_count": null,
      "outputs": []
    },
    {
      "cell_type": "code",
      "metadata": {
        "id": "F60L-xaHmVrL"
      },
      "source": [
        "degree_dict=dict(gstudents.degree(gstudents.nodes()))\n",
        "print(degree_dict)\n",
        "nx.set_node_attributes(gstudents,degree_dict,'degree')\n",
        "attr=nx.get_node_attributes(gstudents,\"attr\")\n",
        "sorted_degree=sorted(degree_dict.items(),key=itemgetter(1),reverse=True)\n",
        "print(sorted_degree)\n",
        "print(\" 10 top nodes by degree\")\n",
        "for x,y in sorted_degree[:10]:\n",
        "    print(x,y)\n",
        "    print(attr[x])"
      ],
      "execution_count": null,
      "outputs": []
    },
    {
      "cell_type": "code",
      "metadata": {
        "id": "hgDvnlebl1nZ"
      },
      "source": [
        "#show students dan departement paling rajin pinjam buku\n",
        "print(Most_top_students(gstudents,10))"
      ],
      "execution_count": null,
      "outputs": []
    },
    {
      "cell_type": "markdown",
      "metadata": {
        "id": "8h6mKNRd8IJ3"
      },
      "source": [
        "#Students degree distribution"
      ]
    },
    {
      "cell_type": "code",
      "metadata": {
        "id": "LK_mVtz78GSp"
      },
      "source": [
        "degree_dict=dict(gstudents.degree(gstudents.nodes()))\n",
        "#nx.set_node_attributes(g,degree_dict,'degree')\n",
        "sorted_degree=sorted(degree_dict.items(),key=itemgetter(1),reverse=True)\n",
        "students=[]\n",
        "deg_students=[]\n",
        "for i in range(len(sorted_degree)):\n",
        "  students.append(sorted_degree[i][0])\n",
        "  deg_students.append(sorted_degree[i][1])\n",
        "no=[i for i in range(len(sorted(students)))]\n",
        "plt.figure(figsize=(7,7))\n",
        "plt.bar(no,deg_students, color='blue')\n",
        "plt.title('Distribution of students degree', fontsize=14)\n",
        "plt.xlabel('No of Students', fontsize=14)\n",
        "plt.ylabel('Degree of Students', fontsize=14)\n",
        "plt.grid(True)\n",
        "plt.show()"
      ],
      "execution_count": null,
      "outputs": []
    },
    {
      "cell_type": "code",
      "metadata": {
        "id": "OnpOLpf7Nc-0"
      },
      "source": [
        "#Frequency distribution\n",
        "import collections\n",
        "degree=dict(gstudents.degree(gstudents.nodes()))\n",
        "list_deg=list(degree.values())\n",
        "counter=collections.Counter(list_deg)\n",
        "x=list(counter.values())\n",
        "y=list(counter.keys())\n",
        "plt.figure(figsize=(7,7))\n",
        "plt.bar(x,y, color='blue')\n",
        "plt.title('Frequency Distribution of students degree', fontsize=14)\n",
        "plt.xlabel('Degree of students', fontsize=14)\n",
        "plt.ylabel('Frequency', fontsize=14)\n",
        "plt.grid(True)\n",
        "plt.show()"
      ],
      "execution_count": null,
      "outputs": []
    },
    {
      "cell_type": "markdown",
      "metadata": {
        "id": "r095aSwRL8yY"
      },
      "source": [
        "# Aply EVA (selected for node attributed)"
      ]
    },
    {
      "cell_type": "code",
      "metadata": {
        "id": "ASLanh5CqOXu"
      },
      "source": [
        "# mapping dan relabeling\n",
        "mapstudents=dict(zip(gstudents,range(0,len(gstudents))))\n",
        "gstudents=nx.relabel_nodes(gstudents,mapstudents)\n",
        "nx.set_edge_attributes(gstudents,values=1,name='weight')\n",
        "print(gstudents.nodes(data=True))\n",
        "print(gstudents.edges(data=True))\n",
        "\n",
        "nx.write_gml(gstudents,'/content/gdrive/MyDrive/data set/uad library/gstudents-sac1.gml')\n",
        "nx.write_gpickle(gstudents,'/content/gdrive/MyDrive/data set/uad library/gstudents.pickle')\n"
      ],
      "execution_count": null,
      "outputs": []
    },
    {
      "cell_type": "code",
      "metadata": {
        "id": "LlNnLQouMRYs"
      },
      "source": [
        "\n",
        "nx.write_gml(gstudents,'/content/gdrive/MyDrive/data set/uad library/gstudents.gml')\n",
        "nx.write_gpickle(gstudents,'/content/gdrive/MyDrive/data set/uad library/gstudents.pickle')\n",
        "\n",
        "modl=[]\n",
        "purl=[]\n",
        "from Eva import eva_best_partition,modularity,purity\n",
        "for alpha in [0.0,0.1,0.2,0.3,0.4,0.5,0.6,0.7,0.8,0.9,1.0]:\n",
        "  part,com_labels=eva_best_partition(gstudents,alpha=alpha) \n",
        "  pur=purity(com_labels)\n",
        "  mod=modularity(part,gstudents)\n",
        "  print(\"alpha :\",alpha)\n",
        "  print(\"purity, P: \",pur)\n",
        "  mod=modularity(part,gstudents)\n",
        "  print(\"modularity Q : \",mod)\n",
        "  modl.append(mod)\n",
        "  purl.append(pur)\n",
        "print(modl)\n",
        "print(purl)"
      ],
      "execution_count": null,
      "outputs": []
    },
    {
      "cell_type": "code",
      "metadata": {
        "id": "CGPgL0LBh142"
      },
      "source": [
        "#trade-off modularity and purity (tunning parameter) \n",
        "import numpy as np\n",
        "modl=np.around(modl,2)\n",
        "purl=np.around(purl,2)\n",
        "x=[0.0,0.1,0.2,0.3,0.4,0.5,0.6,0.7,0.8,0.9,1.0]\n",
        "y1=modl\n",
        "y2=purl\n",
        "plt.plot(x,y1,label='Modularity')\n",
        "plt.plot(x,y2,label='Purity')\n",
        "plt.plot()\n",
        "plt.xlabel(\"alpha\")\n",
        "plt.ylabel(\"values\")\n",
        "plt.title(\"modularity vs purity\")\n",
        "plt.show()"
      ],
      "execution_count": null,
      "outputs": []
    },
    {
      "cell_type": "markdown",
      "metadata": {
        "id": "w48abt_kx2IR"
      },
      "source": [
        "# optimal solutian, with alpha = 0.5"
      ]
    },
    {
      "cell_type": "code",
      "metadata": {
        "id": "KvLOpxf_x7rR"
      },
      "source": [
        "#calculate modularity\n",
        "Modlib_student=[]\n",
        "from Eva import eva_best_partition,modularity,purity\n",
        "alpha=0.5\n",
        "part,com_labels=eva_best_partition(gstudents,alpha=alpha) \n",
        "pur=purity(com_labels)\n",
        "mod=modularity(part,gstudents)\n",
        "print(\"purity, P: \",pur)\n",
        "mod=modularity(part,gstudents)\n",
        "print(\"modularity Q : \",mod)\n",
        "Modlib_student.append(mod)\n",
        "#compare with another CD \n",
        "from community import community_louvain\n",
        "#first compute the best partition\n",
        "part = community_louvain.best_partition(gstudents)\n",
        "print(\"number of node : \",len(part))\n",
        "mod=community_louvain.modularity(part,gstudents)\n",
        "Modlib_student.append(mod)\n",
        "print(\"modularity Q : \",mod)\n",
        "#greedy_modularity_communities algorithm\n",
        "import networkx.algorithms.community as nx_comm\n",
        "comk=nx_comm.greedy_modularity_communities(gstudents)\n",
        "print(\"com greedy :\",list(comk))\n",
        "mod=nx_comm.modularity(gstudents,comk)\n",
        "#print(\"modularity Greey CN:\",mod)\n",
        "Modlib_student.append(mod)\n",
        "# LPA algorithm\n",
        "import networkx.algorithms.community as nx_comm\n",
        "comk=nx_comm.label_propagation_communities(gstudents)\n",
        "#print(list(comk))\n",
        "mod=nx_comm.modularity(gstudents,comk)\n",
        "print(\"modularity LPA:\",mod)\n",
        "Modlib_student.append(mod)\n",
        "#Fluid Communities algorithm\n",
        "import networkx.algorithms.community as nx_comm\n",
        "comf=nx_comm.asyn_fluidc(gstudents,2)\n",
        "#print(list(comf))\n",
        "mod=nx_comm.modularity(gstudents,nx_comm.asyn_fluidc(gstudents,2))\n",
        "print(\"modularity fluid algorithm :\",mod)\n",
        "Modlib_student.append(mod)\n",
        "import networkx.algorithms.community as nx_comm\n",
        "comk=nx_comm.kernighan_lin_bisection(gstudents)\n",
        "#print(list(comk))\n",
        "mod=nx_comm.modularity(gstudents,comk)\n",
        "print(\"modularity Kernighan:\",mod)\n",
        "Modlib_student.append(mod)\n",
        "#Girvan_newman ALgorithm\n",
        "import networkx.algorithms.community as nx_comm\n",
        "com=nx_comm.girvan_newman(gstudents)\n",
        "top_level_com=next(com)\n",
        "mod=nx_comm.modularity(gstudents,top_level_com)\n",
        "print(\"modularity girvan_newman :\",mod)\n",
        "Modlib_student.append(mod)\n",
        "#Kernighan_Lin Bisection algorithm\n",
        "\n",
        "      "
      ],
      "execution_count": null,
      "outputs": []
    },
    {
      "cell_type": "code",
      "metadata": {
        "id": "O9DhpZffi_-i"
      },
      "source": [
        "#tambahan SAC1 and MCL\n"
      ],
      "execution_count": null,
      "outputs": []
    },
    {
      "cell_type": "code",
      "metadata": {
        "id": "VADaq23p7wL4"
      },
      "source": [
        "import numpy as np\n",
        "Md_s=np.around(Modlib_student,2)\n",
        "print(Md_s)\n",
        "import matplotlib.pyplot as plt\n",
        "fig = plt.figure()\n",
        "ax = fig.add_axes([0,0,1,1])\n",
        "Algorithm = ['Eva-05','Louvain','Greedy CNM', 'LPA','Fluid-Com','Ker-Lin','Girvan-Newman']\n",
        "ax.bar(Algorithm,Md_s,width=0.8,color='yellow')\n",
        "for i in range(len(Algorithm)):\n",
        "  plt.text(i,Md_s[i],Md_s[i],ha=\"center\",va=\"bottom\")\n",
        "plt.xlabel(\"algorithm\")\n",
        "plt.ylabel(\"modularity\")\n",
        "plt.title(\"Student-Library Graph  Modularity \")\n",
        "plt.show()\n"
      ],
      "execution_count": null,
      "outputs": []
    },
    {
      "cell_type": "code",
      "metadata": {
        "id": "KcwMXn0i1zCM"
      },
      "source": [
        "#terpilih eva-05\n",
        "from Eva import eva_best_partition,modularity,purity\n",
        "alpha=0.5\n",
        "parteva,com_labels=eva_best_partition(gstudents,alpha=alpha) \n",
        "pur=purity(com_labels)\n",
        "mod=modularity(part,gstudents)\n",
        "print(\"number of the part is, : \",len(parteva))\n",
        "com=part2com(parteva)\n",
        "print(\"number of the com is, : \",len(com))\n",
        "print(\"the number of community labes is, : \",len(com_labels))\n",
        "print(com)\n",
        "print(com_labels)"
      ],
      "execution_count": null,
      "outputs": []
    },
    {
      "cell_type": "code",
      "metadata": {
        "id": "FhiAdAY0U1DV"
      },
      "source": [
        "#distribusi  community\n",
        "#community and membership\n",
        "\n",
        "comeva=part2com(parteva)\n",
        "no_com=[i for i in range(len(comeva))]\n",
        "c=[len(n) for n in comeva.values()]\n",
        "com= sorted(c, reverse=True)\n",
        "\n",
        "import numpy as np\n",
        "import matplotlib.pyplot as plt\n",
        "fig = plt.figure()\n",
        "ax = fig.add_axes([0,0,1.5,1.5])\n",
        "ax.bar(no_com,com,width=0.8,color='blue')\n",
        "for i in range(len(no_com)):\n",
        "  plt.text(i,com[i],com[i],ha=\"center\",va=\"bottom\")\n",
        "plt.xlabel(\"Communtiy\")\n",
        "plt.ylabel(\"member of community\")\n",
        "plt.title(\" Community Students Library Graph  Modularity using EVA-05 \")\n",
        "plt.show()"
      ],
      "execution_count": null,
      "outputs": []
    },
    {
      "cell_type": "code",
      "metadata": {
        "id": "qwvR6gY_Lx0z"
      },
      "source": [
        "#distribusi community dg pie chart\n",
        "my_labels=[i for i in range(len(no_com))]\n",
        "import matplotlib.pyplot as plt\n",
        "plt.pie(com,labels=my_labels,autopct='%1.1f%%')\n",
        "plt.title('Distribution of Community of Gstudents ')\n",
        "plt.axis('equal')\n",
        "plt.show()"
      ],
      "execution_count": null,
      "outputs": []
    },
    {
      "cell_type": "markdown",
      "metadata": {
        "id": "uYhz4J4aejVR"
      },
      "source": [
        "# Evaluation All Metrics GStudents"
      ]
    },
    {
      "cell_type": "code",
      "metadata": {
        "id": "n-ic0zPr8_6F"
      },
      "source": [
        "\n",
        "#eva\n",
        "from Eva import eva_best_partition,modularity,purity\n",
        "alpha=0.5\n",
        "part,com_labels=eva_best_partition(gstudents,alpha=alpha) \n",
        "pur=purity(com_labels)\n",
        "modeva=modularity(part,gstudents)\n",
        "comeva=part2com(part)\n",
        "partition=com2lsetcom(comeva)\n",
        "covrgeva=nx_comm.coverage(gstudents,partition)\n",
        "performeva=nx_comm.performance(gstudents,partition)\n",
        "labels=[y for x,y in part.items()]\n",
        "eeva=entropy(labels)\n",
        "sizeeva=len(comeva)\n",
        "deva=[]\n",
        "for i in range(sizeeva):\n",
        "  lcom=comeva[i]\n",
        "  gcom=gstudents.subgraph(lcom) \n",
        "  de=nx.density(gcom)\n",
        "  deva.append(de)\n",
        "avgdeva=np.average(deva)\n",
        "\n",
        "#louvain\n",
        "part = community_louvain.best_partition(gstudents)\n",
        "labels=[y for x,y in part.items()]\n",
        "elou=entropy(labels)\n",
        "com=part2com(part)\n",
        "partition=com2lsetcom(com)\n",
        "sizelou=len(com)\n",
        "modlou=community_louvain.modularity(part,gstudents)\n",
        "covrglou=nx_comm.coverage(gstudents,partition)\n",
        "performlou=nx_comm.performance(gstudents,partition)\n",
        "dlou=[]\n",
        "for i in range(sizelou):\n",
        "  lcom=com[i]\n",
        "  gcom=gstudents.subgraph(lcom) \n",
        "  dl=nx.density(gcom)\n",
        "  dlou.append(dl)\n",
        "avgdlou=np.average(dlou)\n",
        "\n",
        "\n",
        "#greedy_modularity_communities algorithm\n",
        "import networkx.algorithms.community as nx_comm\n",
        "comg=nx_comm.greedy_modularity_communities(gstudents)\n",
        "com=frozen2com(comg)\n",
        "part=com2part(com)\n",
        "labels=[y for x,y in part.items()]\n",
        "egre=entropy(labels)\n",
        "modgre=nx_comm.modularity(gstudents,comg)\n",
        "covrggre=nx_comm.coverage(gstudents,comg)\n",
        "performgre=nx_comm.performance(gstudents,comg)\n",
        "sizegre=len(comg)\n",
        "dgre=[]\n",
        "for i in range(sizegre):\n",
        "  lcom=com[i]\n",
        "  gcom=gstudents.subgraph(lcom) \n",
        "  dg=nx.density(gcom)\n",
        "  dgre.append(dg)\n",
        "avgdgre=np.average(dgre)\n",
        "\n",
        "#LPA\n",
        "import networkx.algorithms.community as nx_comm\n",
        "#appy cd algorithms ex : louvaui\n",
        "coml=nx_comm.label_propagation_communities(gstudents)\n",
        "lcom=[i for i in coml]\n",
        "ll=list_set2list_list(lcom)\n",
        "com=list_list2com(ll)\n",
        "part=com2part(com)\n",
        "labels=[y for x,y in part.items()]\n",
        "elpa=entropy(labels)\n",
        "modlpa=nx_comm.modularity(gstudents,lcom)\n",
        "covrglpa=nx_comm.coverage(gstudents,lcom)\n",
        "performlpa=nx_comm.performance(gstudents,lcom)\n",
        "sizelpa=len(lcom)\n",
        "dlpa=[]\n",
        "for i in range(sizelpa):\n",
        "  lcom=com[i]\n",
        "  gcom=gstudents.subgraph(lcom) \n",
        "  dl=nx.density(gcom)\n",
        "  dlpa.append(dl)\n",
        "avgdlpa=np.average(dlpa)\n",
        "\n",
        "#Fluid Communities algorithm\n",
        "comf=nx_comm.asyn_fluidc(gstudents,2)\n",
        "z=list(comf)\n",
        "x=list_set2list_list(z)\n",
        "com=list_list2com(x)\n",
        "part=com2part(com)\n",
        "labels=[y for x,y in part.items()]\n",
        "eflu=entropy(labels)\n",
        "modflu=nx_comm.modularity(gstudents,nx_comm.asyn_fluidc(gstudents,2))\n",
        "covrgflu=nx_comm.coverage(gstudents,z)\n",
        "performflu=nx_comm.performance(gstudents,z)\n",
        "sizeflu=len(z)\n",
        "dflu=[]\n",
        "for i in range(sizeflu):\n",
        "  lcom=com[i]\n",
        "  gcom=gstudents.subgraph(lcom) \n",
        "  df=nx.density(gcom)\n",
        "  dflu.append(df)\n",
        "avgdflu=np.average(dflu)\n",
        "#Girvan_newman ALgorithm\n",
        "comg=nx_comm.girvan_newman(gstudents)\n",
        "top_level_com=next(comg)\n",
        "ll=list_set2list_list(top_level_com)\n",
        "com=list_list2com(ll)\n",
        "part=com2part(com)\n",
        "labels=[y for x,y in part.items()]\n",
        "egir=entropy(labels)\n",
        "modgir=nx_comm.modularity(gstudents,top_level_com)\n",
        "covrggir=nx_comm.coverage(gstudents,top_level_com)\n",
        "performgir=nx_comm.performance(gstudents,top_level_com)\n",
        "sizegir=len(top_level_com)\n",
        "dgir=[]\n",
        "for i in range(sizegir):\n",
        "  lcom=com[i]\n",
        "  gcom=gstudents.subgraph(lcom) \n",
        "  dg=nx.density(gcom)\n",
        "  dgir.append(dg)\n",
        "avgdgir=np.average(dgir)\n",
        "\n",
        "#Kernighan_Lin Bisection algorithm\n",
        "comk=nx_comm.kernighan_lin_bisection(gstudents)\n",
        "x=list_set2list_list(list(comk))\n",
        "y=list_list2com(x)\n",
        "part=com2part(y)\n",
        "labels=[y for x,y in part.items()]\n",
        "eker=entropy(labels)\n",
        "modker=nx_comm.modularity(gstudents,comk)\n",
        "covrgker=nx_comm.coverage(gstudents,comk)\n",
        "performker=nx_comm.performance(gstudents,comk)\n",
        "sizeker=len(comk)\n",
        "dker=[]\n",
        "for i in range(sizeker):\n",
        "  lcom=com[i]\n",
        "  gcom=gstudents.subgraph(lcom) \n",
        "  dk=nx.density(gcom)\n",
        "  dker.append(dk)\n",
        "avgdker=np.average(dker)\n",
        "#from igraph\n",
        "igstudents=ig.Graph.from_networkx(gstudents)\n",
        "cominf=igstudents.community_infomap()\n",
        "mem=cominf.membership\n",
        "part=mem2part(mem)\n",
        "com=part2com(part)\n",
        "partition=com2lsetcom(com)\n",
        "labels=[y for x,y in part.items()]\n",
        "einf=entropy(labels)\n",
        "modinf=igstudents.modularity(cominf)\n",
        "covrginf=nx_comm.coverage(gstudents,partition)\n",
        "performinf=nx_comm.performance(gstudents,partition)\n",
        "sizeinf=len(cominf)\n",
        "dinf=[]\n",
        "for i in range(sizeinf):\n",
        "  lcom=com[i]\n",
        "  gcom=gstudents.subgraph(lcom) \n",
        "  di=nx.density(gcom)\n",
        "  dinf.append(di)\n",
        "avgdinf=np.average(dinf)\n",
        "\n",
        "comlei=igstudents.community_leiden()\n",
        "mem=comlei.membership\n",
        "part=mem2part(mem)\n",
        "com=part2com(part)\n",
        "partition=com2lsetcom(com)\n",
        "sizelei=len(comlei)\n",
        "modlei=igstudents.modularity(comlei)\n",
        "covrglei=nx_comm.coverage(gstudents,partition)\n",
        "performlei=nx_comm.performance(gstudents,partition)\n",
        "labels=[y for x,y in part.items()]\n",
        "elei=entropy(labels)\n",
        "dlei=[]\n",
        "for i in range(sizelei):\n",
        "  lcom=com[i]\n",
        "  gcom=gstudents.subgraph(lcom) \n",
        "  dl=nx.density(gcom)\n",
        "  dlei.append(dl)\n",
        "avgdlei=np.average(dlei)\n",
        "\n",
        "print(\"Walktrap\")\n",
        "wal=igstudents.community_walktrap()\n",
        "#g.community_walktrap().as_clustering().membership\n",
        "comwal=wal.as_clustering()\n",
        "mem=comwal.membership\n",
        "part=mem2part(mem)\n",
        "com=mem2com(mem)\n",
        "partition=com2lsetcom(com)\n",
        "sizewal=len(comwal)\n",
        "modwal=igstudents.modularity(comwal)\n",
        "covrgwal=nx_comm.coverage(gstudents,partition)\n",
        "performwal=nx_comm.performance(gstudents,partition)\n",
        "labels=[y for x,y in part.items()]\n",
        "ewal=entropy(labels)\n",
        "dwal=[]\n",
        "for i in range(sizewal):\n",
        "  lcom=com[i]\n",
        "  gcom=gstudent.subgraph(lcom) \n",
        "  dw=nx.density(gcom)\n",
        "  dwal.append(dw)\n",
        "avgdwal=np.average(dwal)\n",
        "print(\"modularity : \",modwal)\n",
        "print(\"size com :\",sizewal)\n",
        "print(\"coverage : \",covrgwal)\n",
        "print(\"performan  :\",performwal)\n",
        "print(\"entropy  :\",ewal)\n",
        "print(\"avg density  :\",avgdwal)\n",
        "\n",
        "print(\"Spinglas\")\n",
        "comspi=igstudents.community_spinglass()\n",
        "mem=comspi.membership\n",
        "part=mem2part(mem)\n",
        "com=mem2com(mem)\n",
        "partition=com2lsetcom(com)\n",
        "sizespi=len(comspi)\n",
        "modspi=igstudents.modularity(comspi)\n",
        "covrgspi=nx_comm.coverage(gstudents,partition)\n",
        "performspi=nx_comm.performance(gstudents,partition)\n",
        "labels=[y for x,y in part.items()]\n",
        "espi=entropy(labels)\n",
        "dspi=[]\n",
        "for i in range(sizespi):\n",
        "  lcom=com[i]\n",
        "  gcom=gstudent.subgraph(lcom) \n",
        "  ds=nx.density(gcom)\n",
        "  dspi.append(ds)\n",
        "avgdspi=np.average(dspi)\n",
        "print(\"modularity : \",modspi)\n",
        "print(\"size com :\",sizespi)\n",
        "print(\"coverage : \",covrgspi)\n",
        "print(\"performan  :\",performspi)\n",
        "print(\"entropy  :\",espi)\n",
        "print(\"avg density  :\",avgdspi)\n",
        "Modlib_students=[]\n",
        "Covlib_students=[]\n",
        "Perlib_students=[]\n",
        "Sizelib_students=[]\n",
        "Entlib_students=[]\n",
        "Denlib_students=[]\n",
        "for i in [modeva,modlou,modspi,modwal,modinf,modlpa,modgre,modflu,modgir,modker,modlei]:\n",
        "  Modlib_students.append(np.around(i,2))\n",
        "for i in [sizeeva,sizelou,sizespi,sizewal,sizeinf,sizelpa,sizegre,sizeflu,sizegir,sizeker,sizelei]:\n",
        "  Sizelib_students.append(np.around(i,2))\n",
        "Sizelib_studentsminLei=[]\n",
        "for i in [sizeeva,sizelou,sizespi,sizewal,sizeinf,sizelpa,sizegre,sizeflu,sizegir,sizeker]:\n",
        "  Sizelib_studentsminLei.append(np.around(i,2))\n",
        "for i in [covrgeva,covrglou,covrgspi,covrgwal,covrginf,covrglpa,covrggre,covrgflu,covrggir,covrgker,covrglei]:\n",
        "  Covlib_students.append(np.around(i,2))\n",
        "for i in [performeva,performlou,performspi,performwal,performinf,performlpa,performgre,performflu,performgir,performker,performlei]:\n",
        "  Perlib_students.append(np.around(i,2))\n",
        "for i in [eeva,elou,espi,ewal,einf,elpa,egre,eflu,egir,eker,elei]:\n",
        "  Entlib_students.append(np.around(i,2))\n",
        "for i in [avgdeva,avgdlou,avgdspi,avgdwal,avgdinf,avgdlpa,avgdgre,avgdflu,avgdgir,avgdker,avgdlei]:\n",
        "  Denlib_students.append(np.around(i,2))\n",
        "print(\"Modularity :\",Modlib_students)\n",
        "print(\"Size com :\",Sizelib_students)\n",
        "print(\"Coverage :\",Covlib_students)\n",
        "print(\"Performance :\",Perlib_students)\n",
        "print(\"Entropy :\",Entlib_students)\n",
        "print(\"Density :\",Denlib_students)\n",
        "\n"
      ],
      "execution_count": null,
      "outputs": []
    },
    {
      "cell_type": "code",
      "metadata": {
        "id": "juTl_yUTFrZX"
      },
      "source": [
        "#save to file\n",
        "#save to json and txt\n",
        "import json\n",
        "with open('/content/gdrive/MyDrive/data set/uad library/modstudents.json', 'w') as f: \n",
        "      json.dump(Modlib_students,f)\n",
        "with open('/content/gdrive/MyDrive/data set/uad library/covstudents.json', 'w') as f: \n",
        "      json.dump(Covlib_students,f)\n",
        "with open('/content/gdrive/MyDrive/data set/uad library/perstudents.json', 'w') as f: \n",
        "      json.dump(Perlib_students,f)\n",
        "with open('/content/gdrive/MyDrive/data set/uad library/denstudents.json', 'w') as f: \n",
        "      json.dump(Denlib_students,f)\n",
        "with open('/content/gdrive/MyDrive/data set/uad library/entstudents.json', 'w') as f: \n",
        "      json.dump(Entlib_students,f)\n",
        "with open('/content/gdrive/MyDrive/data set/uad library/sizestudents.txt', 'w') as file:\n",
        "        file.write('\\n'.join(str(s) for s in Sizelib_students))"
      ],
      "execution_count": null,
      "outputs": []
    },
    {
      "cell_type": "code",
      "metadata": {
        "id": "o11iwHI6ZloH"
      },
      "source": [
        "#completed graphic Gstudents\n",
        "labels1 = ['Eva','Louvain','Spinglas','Walktrap','Infomap', 'LPA','Greedy','Fluid','G-N','Ker-Lin','Leiden']\n",
        "labels2 = ['Eva','Louvain','Spinglas','Walktrap','Infomap', 'LPA','Greedy','Fluid','G-N','Ker-Lin']\n",
        "\n",
        "# plot all minus size and entropy\n",
        "\n",
        "plt.figure(figsize=[8,5])\n",
        "plt.plot(labels1, Modlib_students,c=\"b\",marker=\"o\", label = \"Modularity\", linestyle=\"solid\")\n",
        "plt.plot(labels1, Covlib_students,c=\"r\",marker=\"v\", label = \"Coverage\", linestyle=\"dotted\")\n",
        "plt.plot(labels1, Perlib_students,c=\"y\",marker=\"s\", label = \"Performance\", linestyle=\"dashed\")\n",
        "#plt.plot(labels1, Entlib_students,c=\"g\",marker=\"^\", label = \"Entropy\", linestyle=\"dashdot\")\n",
        "plt.plot(labels1, Denlib_students,c=\"k\",marker=\"p\", label = \"Density\", linestyle=\"-.\")\n",
        "plt.title('Community Detection Algorithms and Evaluation Metrics for Students Library Graph')\n",
        "plt.xlabel('Algorithms')\n",
        "plt.ylabel('Scores')\n",
        "plt.grid(axis = 'y')\n",
        "plt.legend()\n",
        "plt.show()"
      ],
      "execution_count": null,
      "outputs": []
    },
    {
      "cell_type": "code",
      "metadata": {
        "id": "sNF7SEViGQks"
      },
      "source": [
        "#save label\n",
        "labels_students = ['Eva','Louvain','Spinglas','Walktrap','Infomap', 'LPA','Greedy','Fluid','G-N','Ker-Lin','Leiden']\n",
        "with open('/content/gdrive/MyDrive/data set/uad library/labelstudents.json', 'w') as f: \n",
        "      json.dump(labels_students,f)"
      ],
      "execution_count": null,
      "outputs": []
    },
    {
      "cell_type": "code",
      "metadata": {
        "id": "2dSDiPcBX6j5"
      },
      "source": [
        "\n",
        "# plot all minus size\n",
        "plt.figure(figsize=[8,5])\n",
        "plt.plot(labels1, Modlib_students,c=\"b\",marker=\"o\", label = \"Modularity\", linestyle=\"solid\")\n",
        "plt.plot(labels1, Covlib_students,c=\"r\",marker=\"v\", label = \"Coverage\", linestyle=\"dotted\")\n",
        "plt.plot(labels1, Perlib_students,c=\"y\",marker=\"s\", label = \"Performance\", linestyle=\"dashed\")\n",
        "plt.plot(labels1, Entlib_students,c=\"g\",marker=\"^\", label = \"Entropy\", linestyle=\"dashdot\")\n",
        "plt.plot(labels1, Denlib_students,c=\"k\",marker=\"p\", label = \"Density\", linestyle=\"-.\")\n",
        "plt.title('Community Detection Algorithms and Evaluation Metrics for Library Graph')\n",
        "plt.xlabel('ALgorithms')\n",
        "plt.ylabel('Scores')\n",
        "plt.grid(axis = 'y')\n",
        "plt.legend()\n",
        "plt.show()\n",
        "\n",
        "# plot lines size \n",
        "plt.figure(figsize=[8,5])\n",
        "plt.plot(labels1,Sizelib_students,marker=\"o\", label = \"Size Community\", linestyle=\"dotted\")\n",
        "plt.title(' Size of Communtiy  for library graph')\n",
        "plt.xlabel('Algorithms')\n",
        "plt.ylabel('Number of Community')\n",
        "plt.legend()\n",
        "plt.show()\n",
        "\n",
        "\n",
        "# plot lines size without leiden\n",
        "plt.figure(figsize=[8,5])\n",
        "plt.plot(labels2, Sizelib_studentsminLei,marker=\"s\", label = \"Size Community\", linestyle=\"dotted\")\n",
        "plt.title(' Size of Community for library graph (without leiden)')\n",
        "plt.xlabel('Algorithms')\n",
        "plt.ylabel('Number of Community')\n",
        "plt.legend()\n",
        "plt.show()"
      ],
      "execution_count": null,
      "outputs": []
    },
    {
      "cell_type": "code",
      "metadata": {
        "id": "qsPCZ0x1caQC"
      },
      "source": [
        "#Analysis each community\n",
        "print(\"number of community :\",len(comeva))\n",
        "  \n",
        "#for all community\n",
        "for i in range(len(comeva)):\n",
        "  print(\"community ke :\",i)\n",
        "  lcom=comeva[i]\n",
        "  print(\"number of member :\",len(lcom))\n",
        "  #make com as subgraph from students\n",
        "  gcom=gstudents.subgraph(lcom)\n",
        "  #print(\"com ke :\",i,gcom.nodes(data=True)) \n",
        "  Most_top_students(gcom,1)\n"
      ],
      "execution_count": null,
      "outputs": []
    },
    {
      "cell_type": "code",
      "metadata": {
        "id": "Yxdfd_oda7p8"
      },
      "source": [],
      "execution_count": null,
      "outputs": []
    },
    {
      "cell_type": "code",
      "metadata": {
        "id": "laG2KB43xVBG"
      },
      "source": [],
      "execution_count": null,
      "outputs": []
    },
    {
      "cell_type": "code",
      "metadata": {
        "id": "MAFUmEGqxcUw"
      },
      "source": [],
      "execution_count": null,
      "outputs": []
    }
  ]
}